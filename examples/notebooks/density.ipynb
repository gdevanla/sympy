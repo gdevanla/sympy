{
 "metadata": {
  "name": "density"
 }, 
 "nbformat": 2, 
 "worksheets": [
  {
   "cells": [
    {
     "cell_type": "markdown", 
     "source": [
      "# Density operator and matrix "
     ]
    }, 
    {
     "cell_type": "code", 
     "collapsed": false, 
     "input": [
      "from sympy import *", 
      "from sympy.physics.quantum import *", 
      "from sympy.physics.quantum.density import *", 
      "from sympy.physics.quantum.spin import (", 
      "    Jx, Jy, Jz, Jplus, Jminus, J2,", 
      "    JxBra, JyBra, JzBra,", 
      "    JxKet, JyKet, JzKet,", 
      ")", 
      "from IPython.core.display import display_pretty"
     ], 
     "language": "python", 
     "outputs": [], 
     "prompt_number": 22
    }, 
    {
     "cell_type": "code", 
     "collapsed": true, 
     "input": [
      "%load_ext sympyprinting"
     ], 
     "language": "python", 
     "outputs": [], 
     "prompt_number": 23
    }, 
    {
     "cell_type": "markdown", 
     "source": [
      "Create n density matrix using symbolic states"
     ]
    }, 
    {
     "cell_type": "code", 
     "collapsed": true, 
     "input": [
      "psi = Ket('psi')", 
      "phi = Ket('phi')"
     ], 
     "language": "python", 
     "outputs": [], 
     "prompt_number": 24
    }, 
    {
     "cell_type": "code", 
     "collapsed": false, 
     "input": [
      "d = Density((psi,0.5),(phi,0.5)); d"
     ], 
     "language": "python", 
     "outputs": [
      {
       "latex": [
        "$$\\rho\\left(\\begin{pmatrix}{\\left|\\psi\\right\\rangle }, & 0.5\\end{pmatrix},\\begin{pmatrix}{\\left|\\phi\\right\\rangle }, & 0.5\\end{pmatrix}\\right)$$"
       ], 
       "output_type": "pyout", 
       "prompt_number": 25, 
       "text": [
        "\u03c1((\u2758\u03c8\u27e9, 0.5),(\u2758\u03c6\u27e9, 0.5))"
       ]
      }
     ], 
     "prompt_number": 25
    }, 
    {
     "cell_type": "code", 
     "collapsed": false, 
     "input": [
      "display_pretty(d)"
     ], 
     "language": "python", 
     "outputs": [
      {
       "output_type": "display_data", 
       "text": [
        "\u03c1((\u2758\u03c8\u27e9, 0.5),(\u2758\u03c6\u27e9, 0.5))"
       ]
      }
     ], 
     "prompt_number": 26
    }, 
    {
     "cell_type": "code", 
     "collapsed": false, 
     "input": [
      "d.states()"
     ], 
     "language": "python", 
     "outputs": [
      {
       "latex": [
        "$$\\begin{pmatrix}{\\left|\\psi\\right\\rangle }, & {\\left|\\phi\\right\\rangle }\\end{pmatrix}$$"
       ], 
       "output_type": "pyout", 
       "prompt_number": 27, 
       "text": [
        "(\u2758\u03c8\u27e9, \u2758\u03c6\u27e9)"
       ]
      }
     ], 
     "prompt_number": 27
    }, 
    {
     "cell_type": "code", 
     "collapsed": false, 
     "input": [
      "d.probs()"
     ], 
     "language": "python", 
     "outputs": [
      {
       "latex": [
        "$$\\begin{pmatrix}0.5, & 0.5\\end{pmatrix}$$"
       ], 
       "output_type": "pyout", 
       "prompt_number": 28, 
       "text": [
        "(0.5, 0.5)"
       ]
      }
     ], 
     "prompt_number": 28
    }, 
    {
     "cell_type": "code", 
     "collapsed": false, 
     "input": [
      "d.doit()"
     ], 
     "language": "python", 
     "outputs": [
      {
       "latex": [
        "$$0.5 {\\left|\\phi\\right\\rangle }{\\left\\langle \\phi\\right|} + 0.5 {\\left|\\psi\\right\\rangle }{\\left\\langle \\psi\\right|}$$"
       ], 
       "output_type": "pyout", 
       "png": "[encoded data removed]", 
       "prompt_number": 29, 
       "text": [
        "0.5\u22c5\u2758\u03c6\u27e9\u27e8\u03c6\u2758 + 0.5\u22c5\u2758\u03c8\u27e9\u27e8\u03c8\u2758"
       ]
      }
     ], 
     "prompt_number": 29
    }, 
    {
     "cell_type": "code", 
     "collapsed": false, 
     "input": [
      "Dagger(d)"
     ], 
     "language": "python", 
     "outputs": [
      {
       "latex": [
        "$$\\rho\\left(\\begin{pmatrix}{\\left|\\psi\\right\\rangle }, & 0.5\\end{pmatrix},\\begin{pmatrix}{\\left|\\phi\\right\\rangle }, & 0.5\\end{pmatrix}\\right)$$"
       ], 
       "output_type": "pyout", 
       "prompt_number": 30, 
       "text": [
        "\u03c1((\u2758\u03c8\u27e9, 0.5),(\u2758\u03c6\u27e9, 0.5))"
       ]
      }
     ], 
     "prompt_number": 30
    }, 
    {
     "cell_type": "code", 
     "collapsed": true, 
     "input": [
      "A = Operator('A')"
     ], 
     "language": "python", 
     "outputs": [], 
     "prompt_number": 31
    }, 
    {
     "cell_type": "code", 
     "collapsed": false, 
     "input": [
      "d.apply_op(A)"
     ], 
     "language": "python", 
     "outputs": [
      {
       "latex": [
        "$$\\rho\\left(\\begin{pmatrix}A {\\left|\\psi\\right\\rangle }, & 0.5\\end{pmatrix},\\begin{pmatrix}A {\\left|\\phi\\right\\rangle }, & 0.5\\end{pmatrix}\\right)$$"
       ], 
       "output_type": "pyout", 
       "prompt_number": 32, 
       "text": [
        "\u03c1((A\u22c5\u2758\u03c8\u27e9, 0.5),(A\u22c5\u2758\u03c6\u27e9, 0.5))"
       ]
      }
     ], 
     "prompt_number": 32
    }, 
    {
     "cell_type": "markdown", 
     "source": [
      "Now create a density matrix using spin states"
     ]
    }, 
    {
     "cell_type": "code", 
     "collapsed": true, 
     "input": [
      "up = JzKet(S(1)/2,S(1)/2)", 
      "down = JzKet(S(1)/2,-S(1)/2)"
     ], 
     "language": "python", 
     "outputs": [], 
     "prompt_number": 33
    }, 
    {
     "cell_type": "code", 
     "collapsed": false, 
     "input": [
      "d2 = Density((up,0.5),(down,0.5)); d2"
     ], 
     "language": "python", 
     "outputs": [
      {
       "latex": [
        "$$\\rho\\left(\\begin{pmatrix}{\\left|\\frac{1}{2},\\frac{1}{2}\\right\\rangle }, & 0.5\\end{pmatrix},\\begin{pmatrix}{\\left|\\frac{1}{2},- \\frac{1}{2}\\right\\rangle }, & 0.5\\end{pmatrix}\\right)$$"
       ], 
       "output_type": "pyout", 
       "prompt_number": 34, 
       "text": [
        "\u03c1((\u27581/2,1/2\u27e9, 0.5),(\u27581/2,-1/2\u27e9, 0.5))"
       ]
      }
     ], 
     "prompt_number": 34
    }, 
    {
     "cell_type": "code", 
     "collapsed": false, 
     "input": [
      "represent(d2)"
     ], 
     "language": "python", 
     "outputs": [
      {
       "latex": [
        "$$\\left[\\begin{smallmatrix}0.5 & 0\\\\0 & 0.5\\end{smallmatrix}\\right]$$"
       ], 
       "output_type": "pyout", 
       "prompt_number": 35, 
       "text": [
        "", 
        "\u23a10.5   0 \u23a4", 
        "\u23a2        \u23a5", 
        "\u23a3 0   0.5\u23a6"
       ]
      }
     ], 
     "prompt_number": 35
    }, 
    {
     "cell_type": "code", 
     "collapsed": false, 
     "input": [
      "d2.apply_op(Jz)"
     ], 
     "language": "python", 
     "outputs": [
      {
       "latex": [
        "$$\\rho\\left(\\begin{pmatrix}J_z {\\left|\\frac{1}{2},\\frac{1}{2}\\right\\rangle }, & 0.5\\end{pmatrix},\\begin{pmatrix}J_z {\\left|\\frac{1}{2},- \\frac{1}{2}\\right\\rangle }, & 0.5\\end{pmatrix}\\right)$$"
       ], 
       "output_type": "pyout", 
       "prompt_number": 36, 
       "text": [
        "", 
        "\u03c1\u239b\u239bJ \u22c5\u27581/2,1/2\u27e9, 0.5\u239e,\u239bJ \u22c5\u27581/2,-1/2\u27e9, 0.5\u239e\u239e", 
        " \u239d\u239d z               \u23a0 \u239d z                \u23a0\u23a0"
       ]
      }
     ], 
     "prompt_number": 36
    }, 
    {
     "cell_type": "code", 
     "collapsed": false, 
     "input": [
      "qapply(_)"
     ], 
     "language": "python", 
     "outputs": [
      {
       "latex": [
        "$$\\rho\\left(\\begin{pmatrix}\\frac{1}{2} \\hbar {\\left|\\frac{1}{2},\\frac{1}{2}\\right\\rangle }, & 0.5\\end{pmatrix},\\begin{pmatrix}- \\frac{1}{2} \\hbar {\\left|\\frac{1}{2},- \\frac{1}{2}\\right\\rangle }, & 0.5\\end{pmatrix}\\right)$$"
       ], 
       "output_type": "pyout", 
       "prompt_number": 37, 
       "text": [
        "", 
        " \u239b\u239b\u210f\u22c5\u27581/2,1/2\u27e9     \u239e \u239b-\u210f\u22c5\u27581/2,-1/2\u27e9     \u239e\u239e", 
        "\u03c1\u239c\u239c\u2500\u2500\u2500\u2500\u2500\u2500\u2500\u2500\u2500\u2500\u2500, 0.5\u239f,\u239c\u2500\u2500\u2500\u2500\u2500\u2500\u2500\u2500\u2500\u2500\u2500\u2500\u2500, 0.5\u239f\u239f", 
        " \u239d\u239d     2          \u23a0 \u239d      2           \u23a0\u23a0"
       ]
      }
     ], 
     "prompt_number": 37
    }, 
    {
     "cell_type": "code", 
     "collapsed": false, 
     "input": [
      "qapply((Jy*d2).doit())"
     ], 
     "language": "python", 
     "outputs": [
      {
       "latex": [
        "$$0.5 J_y {\\left|\\frac{1}{2},- \\frac{1}{2}\\right\\rangle }{\\left\\langle \\frac{1}{2},- \\frac{1}{2}\\right|} + 0.5 J_y {\\left|\\frac{1}{2},\\frac{1}{2}\\right\\rangle }{\\left\\langle \\frac{1}{2},\\frac{1}{2}\\right|}$$"
       ], 
       "output_type": "pyout", 
       "png": "[encoded data removed]", 
       "prompt_number": 38, 
       "text": [
        "", 
        "0.5\u22c5J \u22c5\u27581/2,-1/2\u27e9\u27e81/2,-1/2\u2758 + 0.5\u22c5J \u22c5\u27581/2,1/2\u27e9\u27e81/2,1/2\u2758", 
        "     y                             y                   "
       ]
      }
     ], 
     "prompt_number": 38
    }, 
    {
     "cell_type": "markdown", 
     "source": [
      "Evaluate entropy of the density matrices"
     ]
    }, 
    {
     "cell_type": "code", 
     "collapsed": false, 
     "input": [
      "entropy(d2)"
     ], 
     "language": "python", 
     "outputs": [
      {
       "latex": [
        "$$\\frac{1}{2} \\log{\\left (2 \\right )}$$"
       ], 
       "output_type": "pyout", 
       "png": "[encoded data removed]", 
       "prompt_number": 39, 
       "text": [
        "", 
        "log(2)", 
        "\u2500\u2500\u2500\u2500\u2500\u2500", 
        "  2   "
       ]
      }
     ], 
     "prompt_number": 39
    }, 
    {
     "cell_type": "code", 
     "collapsed": false, 
     "input": [
      "entropy(represent(d2))"
     ], 
     "language": "python", 
     "outputs": [
      {
       "latex": [
        "$$\\frac{1}{2} \\log{\\left (2 \\right )}$$"
       ], 
       "output_type": "pyout", 
       "png": "[encoded data removed]", 
       "prompt_number": 40, 
       "text": [
        "", 
        "log(2)", 
        "\u2500\u2500\u2500\u2500\u2500\u2500", 
        "  2   "
       ]
      }
     ], 
     "prompt_number": 40
    }, 
    {
     "cell_type": "code", 
     "collapsed": false, 
     "input": [
      "entropy(represent(d2,format=\"numpy\"))"
     ], 
     "language": "python", 
     "outputs": [
      {
       "output_type": "pyout", 
       "prompt_number": 41, 
       "text": [
        "(0.69314718056-0j)"
       ]
      }
     ], 
     "prompt_number": 41
    }, 
    {
     "cell_type": "code", 
     "collapsed": false, 
     "input": [
      "entropy(represent(d2,format=\"scipy.sparse\"))"
     ], 
     "language": "python", 
     "outputs": [
      {
       "output_type": "pyout", 
       "prompt_number": 42, 
       "text": [
        "(0.69314718056-0j)"
       ]
      }
     ], 
     "prompt_number": 42
    }, 
    {
     "cell_type": "code", 
     "collapsed": true, 
     "input": [], 
     "language": "python", 
     "outputs": [], 
     "prompt_number": 42
    }
   ]
  }
 ]
}