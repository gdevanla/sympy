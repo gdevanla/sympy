{
 "metadata": {
  "name": "density"
 }, 
 "nbformat": 2, 
 "worksheets": [
  {
   "cells": [
    {
     "cell_type": "markdown", 
     "source": [
      "# Density operator and matrix "
     ]
    }, 
    {
     "cell_type": "code", 
     "collapsed": false, 
     "input": [
      "from sympy import *", 
      "from sympy.physics.quantum import *", 
      "from sympy.physics.quantum.density import *", 
      "from sympy.physics.quantum.spin import (", 
      "    Jx, Jy, Jz, Jplus, Jminus, J2,", 
      "    JxBra, JyBra, JzBra,", 
      "    JxKet, JyKet, JzKet,", 
      ")", 
      "from IPython.core.display import display_pretty"
     ], 
     "language": "python", 
     "outputs": [], 
     "prompt_number": 24
    }, 
    {
     "cell_type": "code", 
     "collapsed": true, 
     "input": [
      "%load_ext sympyprinting"
     ], 
     "language": "python", 
     "outputs": [], 
     "prompt_number": 2
    }, 
    {
     "cell_type": "markdown", 
     "source": [
      "Create n density matrix using symbolic states"
     ]
    }, 
    {
     "cell_type": "code", 
     "collapsed": true, 
     "input": [
      "psi = Ket('psi')", 
      "phi = Ket('phi')"
     ], 
     "language": "python", 
     "outputs": [], 
     "prompt_number": 3
    }, 
    {
     "cell_type": "code", 
     "collapsed": false, 
     "input": [
      "d = Density((psi,0.5),(phi,0.5)); d"
     ], 
     "language": "python", 
     "outputs": [
      {
       "latex": [
        "$$\\rho\\left(\\begin{pmatrix}{\\left|\\psi\\right\\rangle }, & 0.5\\end{pmatrix},\\begin{pmatrix}{\\left|\\phi\\right\\rangle }, & 0.5\\end{pmatrix}\\right)$$"
       ], 
       "output_type": "pyout", 
       "prompt_number": 4, 
       "text": [
        "\u03c1((\u2758\u03c8\u27e9, 0.5),(\u2758\u03c6\u27e9, 0.5))"
       ]
      }
     ], 
     "prompt_number": 4
    }, 
    {
     "cell_type": "code", 
     "collapsed": false, 
     "input": [
      "display_pretty(d)"
     ], 
     "language": "python", 
     "outputs": [
      {
       "output_type": "display_data", 
       "text": [
        "\u03c1((\u2758\u03c8\u27e9, 0.5),(\u2758\u03c6\u27e9, 0.5))"
       ]
      }
     ], 
     "prompt_number": 5
    }, 
    {
     "cell_type": "code", 
     "collapsed": false, 
     "input": [
      "d.states()"
     ], 
     "language": "python", 
     "outputs": [
      {
       "latex": [
        "$$\\begin{pmatrix}{\\left|\\psi\\right\\rangle }, & {\\left|\\phi\\right\\rangle }\\end{pmatrix}$$"
       ], 
       "output_type": "pyout", 
       "prompt_number": 6, 
       "text": [
        "(\u2758\u03c8\u27e9, \u2758\u03c6\u27e9)"
       ]
      }
     ], 
     "prompt_number": 6
    }, 
    {
     "cell_type": "code", 
     "collapsed": false, 
     "input": [
      "d.probs()"
     ], 
     "language": "python", 
     "outputs": [
      {
       "latex": [
        "$$\\begin{pmatrix}0.5, & 0.5\\end{pmatrix}$$"
       ], 
       "output_type": "pyout", 
       "prompt_number": 7, 
       "text": [
        "(0.5, 0.5)"
       ]
      }
     ], 
     "prompt_number": 7
    }, 
    {
     "cell_type": "code", 
     "collapsed": false, 
     "input": [
      "d.doit()"
     ], 
     "language": "python", 
     "outputs": [
      {
       "latex": [
        "$$0.5 {\\left|\\phi\\right\\rangle }{\\left\\langle \\phi\\right|} + 0.5 {\\left|\\psi\\right\\rangle }{\\left\\langle \\psi\\right|}$$"
       ], 
       "output_type": "pyout", 
       "png": "[encoded data removed]", 
       "prompt_number": 8, 
       "text": [
        "0.5\u22c5\u2758\u03c6\u27e9\u27e8\u03c6\u2758 + 0.5\u22c5\u2758\u03c8\u27e9\u27e8\u03c8\u2758"
       ]
      }
     ], 
     "prompt_number": 8
    }, 
    {
     "cell_type": "code", 
     "collapsed": false, 
     "input": [
      "Dagger(d)"
     ], 
     "language": "python", 
     "outputs": [
      {
       "latex": [
        "$$\\rho\\left(\\begin{pmatrix}{\\left|\\psi\\right\\rangle }, & 0.5\\end{pmatrix},\\begin{pmatrix}{\\left|\\phi\\right\\rangle }, & 0.5\\end{pmatrix}\\right)$$"
       ], 
       "output_type": "pyout", 
       "prompt_number": 9, 
       "text": [
        "\u03c1((\u2758\u03c8\u27e9, 0.5),(\u2758\u03c6\u27e9, 0.5))"
       ]
      }
     ], 
     "prompt_number": 9
    }, 
    {
     "cell_type": "code", 
     "collapsed": true, 
     "input": [
      "A = Operator('A')"
     ], 
     "language": "python", 
     "outputs": [], 
     "prompt_number": 10
    }, 
    {
     "cell_type": "code", 
     "collapsed": false, 
     "input": [
      "d.apply_op(A)"
     ], 
     "language": "python", 
     "outputs": [
      {
       "latex": [
        "$$\\rho\\left(\\begin{pmatrix}A {\\left|\\psi\\right\\rangle }, & 0.5\\end{pmatrix},\\begin{pmatrix}A {\\left|\\phi\\right\\rangle }, & 0.5\\end{pmatrix}\\right)$$"
       ], 
       "output_type": "pyout", 
       "prompt_number": 11, 
       "text": [
        "\u03c1((A\u22c5\u2758\u03c8\u27e9, 0.5),(A\u22c5\u2758\u03c6\u27e9, 0.5))"
       ]
      }
     ], 
     "prompt_number": 11
    }, 
    {
     "cell_type": "markdown", 
     "source": [
      "Now create a density matrix using spin states"
     ]
    }, 
    {
     "cell_type": "code", 
     "collapsed": true, 
     "input": [
      "up = JzKet(S(1)/2,S(1)/2)", 
      "down = JzKet(S(1)/2,-S(1)/2)"
     ], 
     "language": "python", 
     "outputs": [], 
     "prompt_number": 12
    }, 
    {
     "cell_type": "code", 
     "collapsed": false, 
     "input": [
      "d2 = Density((up,0.5),(down,0.5)); d2"
     ], 
     "language": "python", 
     "outputs": [
      {
       "latex": [
        "$$\\rho\\left(\\begin{pmatrix}{\\left|\\frac{1}{2},\\frac{1}{2}\\right\\rangle }, & 0.5\\end{pmatrix},\\begin{pmatrix}{\\left|\\frac{1}{2},- \\frac{1}{2}\\right\\rangle }, & 0.5\\end{pmatrix}\\right)$$"
       ], 
       "output_type": "pyout", 
       "prompt_number": 13, 
       "text": [
        "\u03c1((\u27581/2,1/2\u27e9, 0.5),(\u27581/2,-1/2\u27e9, 0.5))"
       ]
      }
     ], 
     "prompt_number": 13
    }, 
    {
     "cell_type": "code", 
     "collapsed": false, 
     "input": [
      "represent(d2)"
     ], 
     "language": "python", 
     "outputs": [
      {
       "latex": [
        "$$\\left[\\begin{smallmatrix}0.5 & 0\\\\0 & 0.5\\end{smallmatrix}\\right]$$"
       ], 
       "output_type": "pyout", 
       "prompt_number": 14, 
       "text": [
        "", 
        "\u23a10.5   0 \u23a4", 
        "\u23a2        \u23a5", 
        "\u23a3 0   0.5\u23a6"
       ]
      }
     ], 
     "prompt_number": 14
    }, 
    {
     "cell_type": "code", 
     "collapsed": false, 
     "input": [
      "d2.apply_op(Jz)"
     ], 
     "language": "python", 
     "outputs": [
      {
       "latex": [
        "$$\\rho\\left(\\begin{pmatrix}J_z {\\left|\\frac{1}{2},\\frac{1}{2}\\right\\rangle }, & 0.5\\end{pmatrix},\\begin{pmatrix}J_z {\\left|\\frac{1}{2},- \\frac{1}{2}\\right\\rangle }, & 0.5\\end{pmatrix}\\right)$$"
       ], 
       "output_type": "pyout", 
       "prompt_number": 15, 
       "text": [
        "", 
        "\u03c1\u239b\u239bJ \u22c5\u27581/2,1/2\u27e9, 0.5\u239e,\u239bJ \u22c5\u27581/2,-1/2\u27e9, 0.5\u239e\u239e", 
        " \u239d\u239d z               \u23a0 \u239d z                \u23a0\u23a0"
       ]
      }
     ], 
     "prompt_number": 15
    }, 
    {
     "cell_type": "code", 
     "collapsed": false, 
     "input": [
      "qapply(_)"
     ], 
     "language": "python", 
     "outputs": [
      {
       "latex": [
        "$$\\rho\\left(\\begin{pmatrix}\\frac{1}{2} \\hbar {\\left|\\frac{1}{2},\\frac{1}{2}\\right\\rangle }, & 0.5\\end{pmatrix},\\begin{pmatrix}- \\frac{1}{2} \\hbar {\\left|\\frac{1}{2},- \\frac{1}{2}\\right\\rangle }, & 0.5\\end{pmatrix}\\right)$$"
       ], 
       "output_type": "pyout", 
       "prompt_number": 16, 
       "text": [
        "", 
        " \u239b\u239b\u210f\u22c5\u27581/2,1/2\u27e9     \u239e \u239b-\u210f\u22c5\u27581/2,-1/2\u27e9     \u239e\u239e", 
        "\u03c1\u239c\u239c\u2500\u2500\u2500\u2500\u2500\u2500\u2500\u2500\u2500\u2500\u2500, 0.5\u239f,\u239c\u2500\u2500\u2500\u2500\u2500\u2500\u2500\u2500\u2500\u2500\u2500\u2500\u2500, 0.5\u239f\u239f", 
        " \u239d\u239d     2          \u23a0 \u239d      2           \u23a0\u23a0"
       ]
      }
     ], 
     "prompt_number": 16
    }, 
    {
     "cell_type": "code", 
     "collapsed": false, 
     "input": [
      "qapply((Jy*d2).doit())"
     ], 
     "language": "python", 
     "outputs": [
      {
       "latex": [
        "$$0.5 J_y {\\left|\\frac{1}{2},- \\frac{1}{2}\\right\\rangle }{\\left\\langle \\frac{1}{2},- \\frac{1}{2}\\right|} + 0.5 J_y {\\left|\\frac{1}{2},\\frac{1}{2}\\right\\rangle }{\\left\\langle \\frac{1}{2},\\frac{1}{2}\\right|}$$"
       ], 
       "output_type": "pyout", 
       "png": "[encoded data removed]", 
       "prompt_number": 17, 
       "text": [
        "", 
        "0.5\u22c5J \u22c5\u27581/2,-1/2\u27e9\u27e81/2,-1/2\u2758 + 0.5\u22c5J \u22c5\u27581/2,1/2\u27e9\u27e81/2,1/2\u2758", 
        "     y                             y                   "
       ]
      }
     ], 
     "prompt_number": 17
    }, 
    {
     "cell_type": "markdown", 
     "source": [
      "## Evaluate entropy of the density matrices"
     ]
    }, 
    {
     "cell_type": "code", 
     "collapsed": false, 
     "input": [
      "entropy(d2)"
     ], 
     "language": "python", 
     "outputs": [
      {
       "latex": [
        "$$\\frac{1}{2} \\log{\\left (2 \\right )}$$"
       ], 
       "output_type": "pyout", 
       "png": "[encoded data removed]", 
       "prompt_number": 18, 
       "text": [
        "", 
        "log(2)", 
        "\u2500\u2500\u2500\u2500\u2500\u2500", 
        "  2   "
       ]
      }
     ], 
     "prompt_number": 18
    }, 
    {
     "cell_type": "code", 
     "collapsed": false, 
     "input": [
      "entropy(represent(d2))"
     ], 
     "language": "python", 
     "outputs": [
      {
       "latex": [
        "$$\\frac{1}{2} \\log{\\left (2 \\right )}$$"
       ], 
       "output_type": "pyout", 
       "png": "[encoded data removed]", 
       "prompt_number": 19, 
       "text": [
        "", 
        "log(2)", 
        "\u2500\u2500\u2500\u2500\u2500\u2500", 
        "  2   "
       ]
      }
     ], 
     "prompt_number": 19
    }, 
    {
     "cell_type": "code", 
     "collapsed": false, 
     "input": [
      "entropy(represent(d2,format=\"numpy\"))"
     ], 
     "language": "python", 
     "outputs": [
      {
       "output_type": "pyout", 
       "prompt_number": 20, 
       "text": [
        "(0.69314718056-0j)"
       ]
      }
     ], 
     "prompt_number": 20
    }, 
    {
     "cell_type": "code", 
     "collapsed": false, 
     "input": [
      "entropy(represent(d2,format=\"scipy.sparse\"))"
     ], 
     "language": "python", 
     "outputs": [
      {
       "output_type": "pyout", 
       "prompt_number": 21, 
       "text": [
        "(0.69314718056-0j)"
       ]
      }
     ], 
     "prompt_number": 21
    }, 
    {
     "cell_type": "markdown", 
     "source": [
      "## Density operators with Tensor Products as args"
     ]
    }, 
    {
     "cell_type": "code", 
     "collapsed": false, 
     "input": [
      "from sympy.core.trace import Tr", 
      "", 
      "A, B, C, D = symbols('A B C D',commutative=False)", 
      "", 
      "t1 = TensorProduct(A,B,C)", 
      "", 
      "d = Density([t1, 1.0])", 
      "d.doit()", 
      "", 
      "t2 = TensorProduct(A,B)", 
      "t3 = TensorProduct(C,D)", 
      "", 
      "d = Density([t2, 0.5], [t3, 0.5])", 
      "d.doit() ", 
      "", 
      "#mixed states", 
      "d = Density([t2+t3, 1.0])", 
      "d.doit() "
     ], 
     "language": "python", 
     "outputs": [
      {
       "latex": [
        "$$1.0 \\left({A A^{\\dagger}}\\right)\\otimes \\left({B B^{\\dagger}}\\right) + 1.0 \\left({A C^{\\dagger}}\\right)\\otimes \\left({B D^{\\dagger}}\\right) + 1.0 \\left({C A^{\\dagger}}\\right)\\otimes \\left({D B^{\\dagger}}\\right) + 1.0 \\left({C C^{\\dagger}}\\right)\\otimes \\left({D D^{\\dagger}}\\right)$$"
       ], 
       "output_type": "pyout", 
       "png": "[encoded data removed]", 
       "prompt_number": 22, 
       "text": [
        "", 
        "    \u239b   \u2020\u239e  \u239b   \u2020\u239e       \u239b   \u2020\u239e  \u239b   \u2020\u239e       \u239b   \u2020\u239e  \u239b   \u2020\u239e       \u239b   \u2020\u239e  \u239b  ", 
        "1.0\u22c5\u239dA\u22c5A \u23a0\u2a02 \u239dB\u22c5B \u23a0 + 1.0\u22c5\u239dA\u22c5C \u23a0\u2a02 \u239dB\u22c5D \u23a0 + 1.0\u22c5\u239dC\u22c5A \u23a0\u2a02 \u239dD\u22c5B \u23a0 + 1.0\u22c5\u239dC\u22c5C \u23a0\u2a02 \u239dD\u22c5", 
        "", 
        " \u2020\u239e", 
        "D \u23a0"
       ]
      }
     ], 
     "prompt_number": 22
    }, 
    {
     "cell_type": "markdown", 
     "source": [
      "## Partial Trace on Density Operators with Mixed State"
     ]
    }, 
    {
     "cell_type": "code", 
     "collapsed": false, 
     "input": [
      "#Partial trace on mixed state", 
      "tr = Tr(d,[1])", 
      "tr.doit()"
     ], 
     "language": "python", 
     "outputs": [
      {
       "latex": [
        "$$1.0 A A^{\\dagger} \\mbox{Tr}\\left(B B^{\\dagger}\\right) + 1.0 A C^{\\dagger} \\mbox{Tr}\\left(B D^{\\dagger}\\right) + 1.0 C A^{\\dagger} \\mbox{Tr}\\left(D B^{\\dagger}\\right) + 1.0 C C^{\\dagger} \\mbox{Tr}\\left(D D^{\\dagger}\\right)$$"
       ], 
       "output_type": "pyout", 
       "prompt_number": 23, 
       "text": [
        "", 
        "       \u2020       \u2020           \u2020       \u2020           \u2020       \u2020           \u2020       \u2020 ", 
        "1.0\u22c5A\u22c5A \u22c5Tr(B\u22c5B ) + 1.0\u22c5A\u22c5C \u22c5Tr(B\u22c5D ) + 1.0\u22c5C\u22c5A \u22c5Tr(D\u22c5B ) + 1.0\u22c5C\u22c5C \u22c5Tr(D\u22c5D )"
       ]
      }
     ], 
     "prompt_number": 23
    }, 
    {
     "cell_type": "code", 
     "collapsed": true, 
     "input": [], 
     "language": "python", 
     "outputs": [], 
     "prompt_number": 23
    }
   ]
  }
 ]
}